{
 "cells": [
  {
   "cell_type": "code",
   "execution_count": 1,
   "metadata": {
    "scrolled": true
   },
   "outputs": [
    {
     "name": "stderr",
     "output_type": "stream",
     "text": [
      "Using TensorFlow backend.\n"
     ]
    }
   ],
   "source": [
    "%load_ext autoreload\n",
    "%aimport data_creater\n",
    "%aimport model\n",
    "%autoreload 1\n",
    "\n",
    "from data_creater import *\n",
    "from model import *\n",
    "import re, copy"
   ]
  },
  {
   "cell_type": "code",
   "execution_count": 3,
   "metadata": {},
   "outputs": [],
   "source": [
    "stocks = companies()\n",
    "symbols = stocks['Symbol'].values.tolist()"
   ]
  },
  {
   "cell_type": "code",
   "execution_count": 13,
   "metadata": {},
   "outputs": [
    {
     "data": {
      "text/plain": [
       "199"
      ]
     },
     "execution_count": 13,
     "metadata": {},
     "output_type": "execute_result"
    }
   ],
   "source": [
    "import gc \n",
    "# del df\n",
    "# del stocks, Sequential\n",
    "gc.collect()"
   ]
  },
  {
   "cell_type": "code",
   "execution_count": 93,
   "metadata": {},
   "outputs": [
    {
     "data": {
      "text/plain": [
       "['normal_amplitude',\n",
       " 'normal_volume',\n",
       " 'normal_close',\n",
       " 'normal_close_diff_day1',\n",
       " 'normal_close_diff_day2',\n",
       " 'normal_close_diff_day3',\n",
       " 'normal_returns',\n",
       " 'normal_mfi',\n",
       " 'normal_weekday']"
      ]
     },
     "execution_count": 93,
     "metadata": {},
     "output_type": "execute_result"
    }
   ],
   "source": [
    "stocks = companies()\n",
    "symbols = stocks['Symbol'].values.tolist()\n",
    "symbol = 'AAPL'\n",
    "if os.path.isfile('./data/{0}/important_symbol.json'.format(symbol)):\n",
    "    with open('./data/{0}/important_symbol.json'.format(symbol), 'r') as json_file:\n",
    "        loaded_model_json = json_file.read()\n",
    "        loaded_model_json = json.loads(loaded_model_json)\n",
    "        symbols = list(loaded_model_json['score'].keys())\n",
    "\n",
    "other_symbols = [symbol_tem for symbol_tem in symbols if symbol_tem != symbol]\n",
    "df = pd.read_csv('./data/{0}/all_normalized.csv'.format(symbol), index_col=[0], parse_dates=[0])\n",
    "symbol_columns = [symbol_tem for symbol_tem in list(df.columns.values) if bool(re.match('normal.*', symbol_tem))]\n",
    "\n",
    "box = []\n",
    "for symbol_tem in other_symbols:\n",
    "    box_tem = []\n",
    "    for col in list(df.columns.values):\n",
    "        if bool(re.match(symbol_tem + '_normal_.*', col)):\n",
    "            box_tem.append(col)\n",
    "    box.append(box_tem)\n",
    "\n",
    "all_combination = []\n",
    "all_combination.append(symbol_columns)\n",
    "for box_tem in box:\n",
    "    all_combination.append(symbol_columns + box_tem)\n",
    "    \n",
    "all_combination[0]"
   ]
  },
  {
   "cell_type": "code",
   "execution_count": 6,
   "metadata": {
    "scrolled": true
   },
   "outputs": [
    {
     "name": "stdout",
     "output_type": "stream",
     "text": [
      "[[-0.03352107 -0.17754371 -0.3861563   0.70570341  0.54774041  0.66382023\n",
      "   0.64942526 -0.68993871  3.        ]\n",
      " [-0.26815705 -0.2792827  -0.40817555  0.09049326  0.47626233  0.44672878\n",
      "   0.12399471 -0.64910956  4.        ]\n",
      " [-0.60335345 -0.33233866 -0.42354147  0.12243274 -0.06654407  0.41229764\n",
      "   0.15052712 -0.64951155  5.        ]]\n",
      "[1]\n"
     ]
    }
   ],
   "source": [
    "ticker = 'AAPL'\n",
    "window_size = 3\n",
    "seq_obj = MultiSequence(ticker,window_size,1,'g000',all_combination[0])\n",
    "\n",
    "\n",
    "# sys.exit()\n",
    "X_train,y_train,X_test,y_test = split_data(seq_obj)\n",
    "print(seq_obj.X[2])\n",
    "print(seq_obj.y[2])\n",
    "\n",
    "\n",
    "\n"
   ]
  },
  {
   "cell_type": "code",
   "execution_count": 7,
   "metadata": {},
   "outputs": [],
   "source": [
    "window_sizes = [3,4]\n",
    "dropouts =  [0.25]\n",
    "learn_rates = [0.001]\n",
    "epochs = [5,10,30]\n",
    "batch_size = 50"
   ]
  },
  {
   "cell_type": "code",
   "execution_count": 11,
   "metadata": {},
   "outputs": [
    {
     "name": "stdout",
     "output_type": "stream",
     "text": [
      "*** Best Model Selection for AAPL ***\n",
      "============================================================\n",
      "\n",
      "Window size: 3\n",
      "------------------------------------------------------------\n",
      "1    > Learn rate: 0.0010 Dropout: 0.25 Epoch: 5 Training loss: 4.2359 Training acc: 0.6632 Testing loss: 4.7219 Testing acc: 0.3469 Score : 0.4556\n",
      "2    > Learn rate: 0.0010 Dropout: 0.25 Epoch: 10 Training loss: 0.6138 Training acc: 0.7254 Testing loss: 0.6264 Testing acc: 0.6939 Score : 0.7093\n",
      "3    > Learn rate: 0.0010 Dropout: 0.25 Epoch: 30 Training loss: 0.6637 Training acc: 0.7513 Testing loss: 0.9840 Testing acc: 0.6939 Score : 0.7214\n",
      "\n",
      "Window size: 4\n",
      "------------------------------------------------------------\n",
      "4    > Learn rate: 0.0010 Dropout: 0.25 Epoch: 5 Training loss: 0.6055 Training acc: 0.6771 Testing loss: 0.9504 Testing acc: 0.6939 Score : 0.6854\n",
      "5    > Learn rate: 0.0010 Dropout: 0.25 Epoch: 10 Training loss: 0.6894 Training acc: 0.7083 Testing loss: 2.1238 Testing acc: 0.6939 Score : 0.7010\n",
      "6    > Learn rate: 0.0010 Dropout: 0.25 Epoch: 30 Training loss: 0.5675 Training acc: 0.7240 Testing loss: 0.6409 Testing acc: 0.6939 Score : 0.7086\n",
      "\n",
      "Model selection summary for AAPL with window size of 3:\n",
      "------------------------------------------------------------\n",
      " ==> Learn rate: 0.0010 Dropout: 0.25 Epoch: 30 Training loss: 0.6637 Training acc: 0.7513 Testing loss: 0.9840 Testing acc: 0.6939 Score : 0.7214\n",
      "\n",
      "Results : \n",
      "------------------------------------------------------------\n",
      "<keras.engine.sequential.Sequential object at 0x1a50142a90>\n",
      "{'ticker': 'AAPL', 'score': 0.7214, 'test_loss': 0.984, 'test_acc': 0.6939, 'train_loss': 0.6637, 'train_acc': 0.7513, 'learn_rate': 0.001, 'dropout': 0.25, 'epoch': 30, 'window_size': 3, 'target_length': 1, 'target_theme': 'g001', 'colname': ['normal_amplitude', 'normal_volume', 'normal_close', 'normal_close_diff_day1', 'normal_close_diff_day2', 'normal_close_diff_day3', 'normal_returns', 'normal_mfi', 'normal_weekday']}\n",
      "Score is better than the past\n",
      "<keras.engine.sequential.Sequential object at 0x1a54f4a990>\n"
     ]
    }
   ],
   "source": [
    "result = model_selector('AAPL', window_sizes, learn_rates, dropouts, epochs, batch_size,target_length=1,target_theme='g001',verbose=1,column=all_combination[1])\n",
    "\n",
    "print(\"\\nResults : \")\n",
    "print(\"-\"*60)\n",
    "print(result[0])\n",
    "\n",
    "print(result[1])\n",
    "ModelLoader.save(result[1]['ticker'],result[0],result[1],force_overwrite=False)\n"
   ]
  },
  {
   "cell_type": "code",
   "execution_count": 72,
   "metadata": {},
   "outputs": [
    {
     "name": "stdout",
     "output_type": "stream",
     "text": [
      "{'score': {'VIAB': 0.6628, 'FRC': 0.6616, 'PPL': 0.653, 'LOW': 0.6452, 'CAG': 0.6438, 'MKTX': 0.6429, 'ALGN': 0.6427, 'DLR': 0.6422, 'NRG': 0.6407, 'DFS': 0.6398, 'ABT': 0.6366, 'MRO': 0.6363, 'ROL': 0.6362, 'DISCK': 0.6352, 'MDLZ': 0.6342, 'CME': 0.6327, 'AVY': 0.6327, 'AMD': 0.6325, 'DXC': 0.6323, 'HRB': 0.6319, 'MOS': 0.6317, 'FANG': 0.6314, 'CERN': 0.6311, 'INCY': 0.6308, 'UPS': 0.6288, 'PNR': 0.6276, 'AXP': 0.6267, 'TFX': 0.6267, 'HSIC': 0.6262, 'FAST': 0.6252}}\n"
     ]
    }
   ],
   "source": [
    "import os, re\n",
    "symbol = 'AAPL'\n",
    "path = './model_step/{0}'.format(symbol)\n",
    "files = []\n",
    "for r, d, f in os.walk(path):\n",
    "    for file in f:\n",
    "        if 'props' in file:\n",
    "            files.append(os.path.join(r, file))\n",
    "\n",
    "df = pd.DataFrame(columns=['other_symbol', 'score'])\n",
    "for i in range(len(files)):\n",
    "    try:\n",
    "        with open(files[i], 'r') as json_file:\n",
    "            loaded_model_json = json_file.read()\n",
    "            loaded_model_json = json.loads(loaded_model_json)\n",
    "\n",
    "        other_symbol_name = '.'.join(list((set([col.split('_')[0] for col in loaded_model_json['colname'] if not re.match('normal.*', col)]))))\n",
    "        if other_symbol_name == '':\n",
    "            other_symbol_name = symbol\n",
    "        score = loaded_model_json['score']\n",
    "        df.loc[i] = [other_symbol_name, score]\n",
    "        \n",
    "        if score > 0.7:\n",
    "            print(files[i])\n",
    "        \n",
    "    except:\n",
    "        continue\n",
    "df = df.sort_values(by = 'score', ascending = False).head(30)\n",
    "df.index = df['other_symbol']\n",
    "df = df.drop(columns = ['other_symbol'])\n",
    "df_json = df.to_dict()\n",
    "print(df_json)\n",
    "with open('./data/{0}/important_symbol.json'.format(symbol), 'w', encoding='utf-8') as f:\n",
    "    json.dump(df_json, f, ensure_ascii=False, indent=4)"
   ]
  }
 ],
 "metadata": {
  "kernelspec": {
   "display_name": "Python 3",
   "language": "python",
   "name": "python3"
  },
  "language_info": {
   "codemirror_mode": {
    "name": "ipython",
    "version": 3
   },
   "file_extension": ".py",
   "mimetype": "text/x-python",
   "name": "python",
   "nbconvert_exporter": "python",
   "pygments_lexer": "ipython3",
   "version": "3.7.4"
  },
  "widgets": {
   "state": {},
   "version": "1.1.2"
  }
 },
 "nbformat": 4,
 "nbformat_minor": 2
}
