{
 "cells": [
  {
   "cell_type": "code",
   "execution_count": 42,
   "metadata": {
    "scrolled": true
   },
   "outputs": [
    {
     "name": "stdout",
     "output_type": "stream",
     "text": [
      "The autoreload extension is already loaded. To reload it, use:\n",
      "  %reload_ext autoreload\n"
     ]
    }
   ],
   "source": [
    "%load_ext autoreload\n",
    "%aimport data_creater\n",
    "%aimport model\n",
    "%autoreload 1\n",
    "\n",
    "from data_creater import *\n",
    "from model import *\n",
    "import re, copy"
   ]
  },
  {
   "cell_type": "code",
   "execution_count": 12,
   "metadata": {},
   "outputs": [
    {
     "name": "stdout",
     "output_type": "stream",
     "text": [
      "['MMM', 'AXP', 'AAPL', 'BA', 'CAT', 'CVX', 'CSCO', 'KO', 'XOM', 'WBA', 'GS', 'HD', 'IBM', 'INTC', 'JNJ', 'JPM', 'MCD', 'MRK', 'MSFT', 'NKE', 'PFE', 'PG', 'TRV', 'UNH', 'UTX', 'VZ', 'V', 'WMT', 'DIS', 'GOOG', 'FB']\n"
     ]
    }
   ],
   "source": [
    "stocks = companies()\n",
    "symbols = stocks['Symbol'].values.tolist()\n",
    "print(symbols)"
   ]
  },
  {
   "cell_type": "code",
   "execution_count": 13,
   "metadata": {},
   "outputs": [
    {
     "data": {
      "text/plain": [
       "199"
      ]
     },
     "execution_count": 13,
     "metadata": {},
     "output_type": "execute_result"
    }
   ],
   "source": [
    "import gc \n",
    "# del df\n",
    "# del stocks, Sequential\n",
    "gc.collect()"
   ]
  },
  {
   "cell_type": "code",
   "execution_count": 63,
   "metadata": {},
   "outputs": [
    {
     "data": {
      "text/plain": [
       "['normal_open_',\n",
       " 'normal_high',\n",
       " 'normal_low',\n",
       " 'normal_volume',\n",
       " 'normal_close',\n",
       " 'normal_close_delta_1',\n",
       " 'normal_close_delta_2',\n",
       " 'normal_close_delta_3',\n",
       " 'normal_returns',\n",
       " 'normal_mfi']"
      ]
     },
     "execution_count": 63,
     "metadata": {},
     "output_type": "execute_result"
    }
   ],
   "source": [
    "other_symbols = [symbol_tem for symbol_tem in symbols if symbol_tem != symbol]\n",
    "symbol = 'AAPL'\n",
    "df = pd.read_csv('./data/{0}/all_normalized.csv'.format(symbol), index_col=[0], parse_dates=[0])\n",
    "symbol_columns = [symbol_tem for symbol_tem in list(df.columns.values) if bool(re.match('normal.*', symbol_tem))]\n",
    "\n",
    "box = []\n",
    "for symbol_tem in other_symbols:\n",
    "    box_tem = []\n",
    "    for col in list(df.columns.values):\n",
    "        if bool(re.match(symbol_tem + '_normal_.*', col)):\n",
    "            box_tem.append(col)\n",
    "    box.append(box_tem)\n",
    "\n",
    "all_combination = []\n",
    "all_combination.append(symbol_columns)\n",
    "for box_tem in box:\n",
    "    all_combination.append(symbol_columns + box_tem)\n",
    "    \n",
    "all_combination[0]"
   ]
  },
  {
   "cell_type": "code",
   "execution_count": 77,
   "metadata": {
    "scrolled": true
   },
   "outputs": [
    {
     "name": "stdout",
     "output_type": "stream",
     "text": [
      "         date        open        high         low    volume       close  \\\n",
      "0  2019-01-25  155.479996  158.130005  154.320007  33535500  155.424744   \n",
      "1  2019-01-28  155.789993  156.330002  153.660004  26192100  153.986359   \n",
      "2  2019-01-29  156.250000  158.130005  154.110001  41587200  152.390320   \n",
      "3  2019-01-30  163.250000  166.149994  160.229996  61109800  162.803864   \n",
      "4  2019-01-31  166.110001  169.000000  164.559998  40739600  163.976242   \n",
      "\n",
      "   close_delta_1  close_delta_2  close_delta_3   returns  ...  \\\n",
      "0       4.985108       3.783158       4.393967  0.032600  ...   \n",
      "1      -1.438385       3.546723       2.344773 -0.009298  ...   \n",
      "2      -1.596039      -3.034424       1.950684 -0.010419  ...   \n",
      "3      10.413544       8.817505       7.379120  0.066101  ...   \n",
      "4       1.172378      11.585922       9.989883  0.007175  ...   \n",
      "\n",
      "   FB_normal_open_  FB_normal_high  FB_normal_low  FB_normal_volume  \\\n",
      "0        -0.908476       -0.891032      -0.867283         -0.566233   \n",
      "1        -0.890106       -0.918997      -0.878178         -0.757859   \n",
      "2        -0.888817       -0.946641      -0.969957         -0.697381   \n",
      "3        -0.949081       -0.855031      -0.895015          0.071009   \n",
      "4        -0.324524       -0.188686      -0.257841          1.000000   \n",
      "\n",
      "   FB_normal_close  FB_normal_close_delta_1  FB_normal_close_delta_2  \\\n",
      "0        -0.841134                 0.104812                 0.155240   \n",
      "1        -0.891892                -0.050758                 0.054054   \n",
      "2        -1.000000                -0.108108                -0.158866   \n",
      "3        -0.794661                 0.205339                 0.097231   \n",
      "4        -0.258405                 0.536256                 0.741595   \n",
      "\n",
      "   FB_normal_close_delta_3  FB_normal_returns  FB_normal_mfi  \n",
      "0                 0.047462           0.102145       0.194304  \n",
      "1                 0.104482          -0.251546       0.012390  \n",
      "2                -0.054054          -0.385498      -0.220634  \n",
      "3                 0.046473           0.331528      -0.094262  \n",
      "4                 0.633487           1.000000       0.324646  \n",
      "\n",
      "[5 rows x 393 columns]\n",
      "(7, 10)\n",
      "(1,)\n",
      "[[-0.97381257 -0.93110591 -0.95075631 -0.23433254 -0.90911412  0.09088588\n",
      "   0.06897256  0.08010851  0.4681393   0.4660736 ]\n",
      " [-0.96788699 -0.96508105 -0.96316122 -0.48790561 -0.935338   -0.02622388\n",
      "   0.064662    0.04274868 -0.19701544  0.21904101]\n",
      " [-0.95909396 -0.93110591 -0.95470343  0.04369866 -0.96443615 -0.02909815\n",
      "  -0.05532203  0.03556385 -0.21481642  0.22432348]\n",
      " [-0.82528911 -0.77972825 -0.83967672  0.71782857 -0.77458185  0.18985429\n",
      "   0.16075614  0.13453226  1.          0.2761738 ]\n",
      " [-0.77062026 -0.72593425 -0.75829335  0.0144304  -0.75320767  0.02137418\n",
      "   0.21122848  0.18213033  0.06450673  0.29665622]\n",
      " [-0.75437241 -0.72631183 -0.73254398 -0.26428451 -0.75177054  0.00143713\n",
      "   0.02281132  0.21266561 -0.04177797  0.49471308]\n",
      " [-0.74577073 -0.67572656 -0.70717031 -0.30477526 -0.66681235  0.08495819\n",
      "   0.08639533  0.10776951  0.39525747  0.70969041]]\n",
      "[0.05370547]\n",
      "\n",
      "\n",
      "(195, 7, 10)\n",
      "[0.05370547]\n"
     ]
    }
   ],
   "source": [
    "ticker = 'AAPL'\n",
    "window_size = 7\n",
    "seq_obj = MultiSequence(ticker,window_size,2,False,all_combination[0])\n",
    "\n",
    "\n",
    "# sys.exit()\n",
    "X_train,y_train,X_test,y_test = split_data(seq_obj)\n",
    "print(X_train[0].shape)\n",
    "print(y_train[0].shape)\n",
    "print(X_train[0])\n",
    "print(y_train[0])\n",
    "print('\\n')\n",
    "print(seq_obj.Xpred.shape)\n",
    "print(y_train[0])\n",
    "\n",
    "# seq_obj = MultiSequence(ticker,window_size,2,False)\n",
    "# X_train,y_train,X_test,y_test = split_data(seq_obj)\n",
    "# print(y_train[0])\n",
    "\n",
    "# seq_obj = MultiSequence(ticker,window_size,3,False)\n",
    "# X_train,y_train,X_test,y_test = split_data(seq_obj)\n",
    "# print(y_train[0])\n",
    "\n",
    "# seq_obj = MultiSequence(ticker,window_size,4,False)\n",
    "# X_train,y_train,X_test,y_test = split_data(seq_obj)\n",
    "# print(y_train[0])\n",
    "\n",
    "# seq_obj = MultiSequence(ticker,window_size,5,False)\n",
    "# X_train,y_train,X_test,y_test = split_data(seq_obj)\n",
    "# print(y_train[0])"
   ]
  },
  {
   "cell_type": "code",
   "execution_count": 71,
   "metadata": {},
   "outputs": [],
   "source": [
    "window_sizes = [1,2,3,4]\n",
    "dropouts =  [0.25,0.4]\n",
    "learn_rates = [0.001]\n",
    "epochs = [500,700]\n",
    "batch_size = 30"
   ]
  },
  {
   "cell_type": "code",
   "execution_count": 78,
   "metadata": {},
   "outputs": [
    {
     "name": "stdout",
     "output_type": "stream",
     "text": [
      "*** Best Model Selection for AAPL ***\n",
      "============================================================\n",
      "\n",
      "Window size: 1\n",
      "------------------------------------------------------------\n",
      "1    > Learn rate: 0.0010 Dropout: 0.25 Epoch: 500 Training error: 0.0048 Testing error: 0.0149\n",
      "2    > Learn rate: 0.0010 Dropout: 0.25 Epoch: 700 Training error: 0.0049 Testing error: 0.0129\n",
      "3    > Learn rate: 0.0010 Dropout: 0.40 Epoch: 500 Training error: 0.0052 Testing error: 0.0072\n",
      "4    > Learn rate: 0.0010 Dropout: 0.40 Epoch: 700 Training error: 0.0053 Testing error: 0.0086\n",
      "\n",
      "Window size: 2\n",
      "------------------------------------------------------------\n",
      "5    > Learn rate: 0.0010 Dropout: 0.25 Epoch: 500 Training error: 0.0041 Testing error: 0.0138\n",
      "6    > Learn rate: 0.0010 Dropout: 0.25 Epoch: 700 Training error: 0.0036 Testing error: 0.0119\n",
      "7    > Learn rate: 0.0010 Dropout: 0.40 Epoch: 500 Training error: 0.0047 Testing error: 0.0154\n",
      "8    > Learn rate: 0.0010 Dropout: 0.40 Epoch: 700 Training error: 0.0041 Testing error: 0.0072\n",
      "\n",
      "Window size: 3\n",
      "------------------------------------------------------------\n",
      "9    > Learn rate: 0.0010 Dropout: 0.25 Epoch: 500 Training error: 0.0035 Testing error: 0.0125\n",
      "10   > Learn rate: 0.0010 Dropout: 0.25 Epoch: 700 Training error: 0.0033 Testing error: 0.0166\n",
      "11   > Learn rate: 0.0010 Dropout: 0.40 Epoch: 500 Training error: 0.0043 Testing error: 0.0260\n",
      "12   > Learn rate: 0.0010 Dropout: 0.40 Epoch: 700 Training error: 0.0035 Testing error: 0.0274\n",
      "\n",
      "Window size: 4\n",
      "------------------------------------------------------------\n",
      "13   > Learn rate: 0.0010 Dropout: 0.25 Epoch: 500 Training error: 0.0032 Testing error: 0.0218\n",
      "14   > Learn rate: 0.0010 Dropout: 0.25 Epoch: 700 Training error: 0.0031 Testing error: 0.0481\n",
      "15   > Learn rate: 0.0010 Dropout: 0.40 Epoch: 500 Training error: 0.0037 Testing error: 0.0127\n",
      "16   > Learn rate: 0.0010 Dropout: 0.40 Epoch: 700 Training error: 0.0030 Testing error: 0.0558\n",
      "\n",
      "Window size: 7\n",
      "------------------------------------------------------------\n",
      "17   > Learn rate: 0.0010 Dropout: 0.25 Epoch: 500 Training error: 0.0025 Testing error: 0.0139\n",
      "18   > Learn rate: 0.0010 Dropout: 0.25 Epoch: 700 Training error: 0.0021 Testing error: 0.0150\n",
      "19   > Learn rate: 0.0010 Dropout: 0.40 Epoch: 500 Training error: 0.0021 Testing error: 0.0154\n",
      "20   > Learn rate: 0.0010 Dropout: 0.40 Epoch: 700 Training error: 0.0021 Testing error: 0.0166\n",
      "\n",
      "Model selection summary for AAPL with window size of 2:\n",
      "------------------------------------------------------------\n",
      " ==> Learn rate: 0.0010 Dropout: 0.40 Epoch: 700 Training error: 0.0041 Testing error: 0.0072\n",
      "\n",
      "Results : \n",
      "------------------------------------------------------------\n",
      "<keras.engine.sequential.Sequential object at 0x1abe90a7d0>\n",
      "{'ticker': 'AAPL', 'test_error': 0.0072, 'learn_rate': 0.001, 'dropout': 0.4, 'epoch': 700, 'train_error': 0.0041, 'window_size': 2, 'target_length': 2, 'colname': ['normal_open_', 'normal_high', 'normal_low', 'normal_volume', 'normal_close', 'normal_close_delta_1', 'normal_close_delta_2', 'normal_close_delta_3', 'normal_returns', 'normal_mfi']}\n",
      "Accuracy is better than the past\n",
      "<keras.engine.sequential.Sequential object at 0x1ad9a0fd90>\n"
     ]
    }
   ],
   "source": [
    "result = model_selector('AAPL', window_sizes, learn_rates, dropouts, epochs, batch_size,target_length=2,all_day=False,verbose=1,column=all_combination[0])\n",
    "\n",
    "print(\"\\nResults : \")\n",
    "print(\"-\"*60)\n",
    "print(result[0])\n",
    "\n",
    "print(result[1])\n",
    "ModelLoader.save(result[1]['ticker'],result[0],result[1],force_overwrite=False)\n"
   ]
  },
  {
   "cell_type": "code",
   "execution_count": 1,
   "metadata": {},
   "outputs": [
    {
     "ename": "NameError",
     "evalue": "name 'ModelLoader' is not defined",
     "output_type": "error",
     "traceback": [
      "\u001b[0;31m---------------------------------------------------------------------------\u001b[0m",
      "\u001b[0;31mNameError\u001b[0m                                 Traceback (most recent call last)",
      "\u001b[0;32m<ipython-input-1-00182b948a2c>\u001b[0m in \u001b[0;36m<module>\u001b[0;34m\u001b[0m\n\u001b[0;32m----> 1\u001b[0;31m \u001b[0mModelLoader\u001b[0m\u001b[0;34m.\u001b[0m\u001b[0msave\u001b[0m\u001b[0;34m(\u001b[0m\u001b[0mresult\u001b[0m\u001b[0;34m[\u001b[0m\u001b[0;36m1\u001b[0m\u001b[0;34m]\u001b[0m\u001b[0;34m[\u001b[0m\u001b[0;34m'ticker'\u001b[0m\u001b[0;34m]\u001b[0m\u001b[0;34m,\u001b[0m\u001b[0mresult\u001b[0m\u001b[0;34m[\u001b[0m\u001b[0;36m0\u001b[0m\u001b[0;34m]\u001b[0m\u001b[0;34m,\u001b[0m\u001b[0mresult\u001b[0m\u001b[0;34m[\u001b[0m\u001b[0;36m1\u001b[0m\u001b[0;34m]\u001b[0m\u001b[0;34m,\u001b[0m\u001b[0mforce_overwrite\u001b[0m\u001b[0;34m=\u001b[0m\u001b[0;32mFalse\u001b[0m\u001b[0;34m)\u001b[0m\u001b[0;34m\u001b[0m\u001b[0;34m\u001b[0m\u001b[0m\n\u001b[0m",
      "\u001b[0;31mNameError\u001b[0m: name 'ModelLoader' is not defined"
     ]
    }
   ],
   "source": [
    "ModelLoader.save(result[1]['ticker'],result[0],result[1],force_overwrite=False)"
   ]
  },
  {
   "cell_type": "code",
   "execution_count": null,
   "metadata": {},
   "outputs": [],
   "source": [
    "window_sizes = [2, 5, 6, 7]\n",
    "dropouts =  [0.25, 0.4]\n",
    "learn_rates = [0.001]\n",
    "epochs = [500,1000,1500]\n",
    "batch_size = 30\n",
    "\n",
    "for i in range(len(all_combination)-1):\n",
    "    print(all_combination[i])\n",
    "    print(\"{0} {1} {2}\".format(\"-\"*30, i + 1, \"-\"*30))\n",
    "    result = model_selector(symbols[2], window_sizes, learn_rates, dropouts, epochs, batch_size,target_length=1,all_day=False,verbose=1,column=all_combination[i])\n",
    "\n",
    "    print(\"\\nResults : \")\n",
    "    print(\"-\"*60)\n",
    "    print(result[0])\n",
    "\n",
    "    print(result[1])\n",
    "    ModelLoader.save(result[1]['ticker'],result[0],result[1],force_overwrite=False)"
   ]
  },
  {
   "cell_type": "code",
   "execution_count": 25,
   "metadata": {},
   "outputs": [
    {
     "data": {
      "text/plain": [
       "[]"
      ]
     },
     "execution_count": 25,
     "metadata": {},
     "output_type": "execute_result"
    }
   ],
   "source": [
    "import tensorflow as tf\n",
    "gpus = tf.config.experimental.list_physical_devices('GPU')\n",
    "gpus"
   ]
  },
  {
   "cell_type": "code",
   "execution_count": 19,
   "metadata": {},
   "outputs": [
    {
     "name": "stdout",
     "output_type": "stream",
     "text": [
      "*** Best Model Selection for AAPL ***\n",
      "============================================================\n",
      "\n",
      "Window size: 3\n",
      "------------------------------------------------------------\n",
      "1    > Learn rate: 0.0100 Dropout: 0.25 Epoch: 300 Training error: 0.0032 Testing error: 0.0095\n",
      "2    > Learn rate: 0.0100 Dropout: 0.25 Epoch: 500 Training error: 0.0032 Testing error: 0.0106\n",
      "3    > Learn rate: 0.0100 Dropout: 0.40 Epoch: 300 Training error: 0.0044 Testing error: 0.0112\n",
      "4    > Learn rate: 0.0100 Dropout: 0.40 Epoch: 500 Training error: 0.0042 Testing error: 0.0174\n",
      "5    > Learn rate: 0.0010 Dropout: 0.25 Epoch: 300 Training error: 0.0035 Testing error: 0.0090\n",
      "6    > Learn rate: 0.0010 Dropout: 0.25 Epoch: 500 Training error: 0.0035 Testing error: 0.0077\n",
      "7    > Learn rate: 0.0010 Dropout: 0.40 Epoch: 300 Training error: 0.0044 Testing error: 0.0093\n",
      "8    > Learn rate: 0.0010 Dropout: 0.40 Epoch: 500 Training error: 0.0042 Testing error: 0.0082\n",
      "\n",
      "Window size: 5\n",
      "------------------------------------------------------------\n",
      "9    > Learn rate: 0.0100 Dropout: 0.25 Epoch: 300 Training error: 0.0037 Testing error: 0.0074\n",
      "10   > Learn rate: 0.0100 Dropout: 0.25 Epoch: 500 Training error: 0.0036 Testing error: 0.0087\n",
      "11   > Learn rate: 0.0100 Dropout: 0.40 Epoch: 300 Training error: 0.0034 Testing error: 0.0083\n",
      "12   > Learn rate: 0.0100 Dropout: 0.40 Epoch: 500 Training error: 0.0039 Testing error: 0.0118\n",
      "13   > Learn rate: 0.0010 Dropout: 0.25 Epoch: 300 Training error: 0.0030 Testing error: 0.0071\n",
      "14   > Learn rate: 0.0010 Dropout: 0.25 Epoch: 500 Training error: 0.0029 Testing error: 0.0069\n",
      "15   > Learn rate: 0.0010 Dropout: 0.40 Epoch: 300 Training error: 0.0043 Testing error: 0.0082\n",
      "16   > Learn rate: 0.0010 Dropout: 0.40 Epoch: 500 Training error: 0.0042 Testing error: 0.0092\n",
      "\n",
      "Window size: 7\n",
      "------------------------------------------------------------\n",
      "17   > Learn rate: 0.0100 Dropout: 0.25 Epoch: 300 Training error: 0.0019 Testing error: 0.0074\n",
      "18   > Learn rate: 0.0100 Dropout: 0.25 Epoch: 500 Training error: 0.0024 Testing error: 0.0108\n",
      "19   > Learn rate: 0.0100 Dropout: 0.40 Epoch: 300 Training error: 0.0030 Testing error: 0.0069\n",
      "20   > Learn rate: 0.0100 Dropout: 0.40 Epoch: 500 Training error: 0.0027 Testing error: 0.0091\n",
      "21   > Learn rate: 0.0010 Dropout: 0.25 Epoch: 300 Training error: 0.0034 Testing error: 0.0066\n",
      "22   > Learn rate: 0.0010 Dropout: 0.25 Epoch: 500 Training error: 0.0025 Testing error: 0.0067\n",
      "23   > Learn rate: 0.0010 Dropout: 0.40 Epoch: 300 Training error: 0.0035 Testing error: 0.0063\n",
      "24   > Learn rate: 0.0010 Dropout: 0.40 Epoch: 500 Training error: 0.0030 Testing error: 0.0079\n",
      "\n",
      "Window size: 10\n",
      "------------------------------------------------------------\n",
      "25   > Learn rate: 0.0100 Dropout: 0.25 Epoch: 300 Training error: 0.0018 Testing error: 0.0073\n",
      "26   > Learn rate: 0.0100 Dropout: 0.25 Epoch: 500 Training error: 0.0015 Testing error: 0.0098\n",
      "27   > Learn rate: 0.0100 Dropout: 0.40 Epoch: 300 Training error: 0.0022 Testing error: 0.0089\n",
      "28   > Learn rate: 0.0100 Dropout: 0.40 Epoch: 500 Training error: 0.0024 Testing error: 0.0100\n",
      "29   > Learn rate: 0.0010 Dropout: 0.25 Epoch: 300 Training error: 0.0023 Testing error: 0.0067\n",
      "30   > Learn rate: 0.0010 Dropout: 0.25 Epoch: 500 Training error: 0.0023 Testing error: 0.0085\n",
      "31   > Learn rate: 0.0010 Dropout: 0.40 Epoch: 300 Training error: 0.0033 Testing error: 0.0070\n",
      "32   > Learn rate: 0.0010 Dropout: 0.40 Epoch: 500 Training error: 0.0027 Testing error: 0.0071\n",
      "\n",
      "Model selection summary for AAPL with window size of 7:\n",
      "------------------------------------------------------------\n",
      " ==> Learn rate: 0.0010 Dropout: 0.40 Epoch: 300 Training error: 0.0035 Testing error: 0.0063\n",
      "\n",
      "Results : \n",
      "------------------------------------------------------------\n",
      "<keras.engine.sequential.Sequential object at 0x1a91107510>\n",
      "{'ticker': 'AAPL', 'test_error': 0.0063, 'learn_rate': 0.001, 'dropout': 0.4, 'epoch': 300, 'train_error': 0.0035, 'window_size': 7}\n",
      "Saved trained model for AAPL\n"
     ]
    }
   ],
   "source": [
    "result = model_selector(symbols[2], window_sizes, learn_rates, dropouts, epochs, batch_size,verbose=1)\n",
    "\n",
    "print(\"\\nResults : \")\n",
    "print(\"-\"*60)\n",
    "print(result[0])\n",
    "\n",
    "print(result[1])\n",
    "ModelLoader.save(result[1]['ticker'],result[0],result[1])\n",
    "print(\"Saved trained model for {}\".format(result[1]['ticker']))"
   ]
  },
  {
   "cell_type": "code",
   "execution_count": 8,
   "metadata": {},
   "outputs": [
    {
     "name": "stdout",
     "output_type": "stream",
     "text": [
      "\n",
      "Model selection summary for AXP with window size of 10:\n",
      "------------------------------------------------------------\n",
      " ==> Learn rate: 0.0100 Dropout: 0.40 Epoch: 100 Training error: 0.0035 Testing error: 0.0053\n",
      " ==> Saved trained model for AXP\n",
      "\n",
      "Model selection summary for AAPL with window size of 7:\n",
      "------------------------------------------------------------\n",
      " ==> Learn rate: 0.0100 Dropout: 0.40 Epoch: 100 Training error: 0.0031 Testing error: 0.0109\n",
      " ==> Saved trained model for AAPL\n",
      "\n",
      "Model selection summary for BA with window size of 7:\n",
      "------------------------------------------------------------\n",
      " ==> Learn rate: 0.0100 Dropout: 0.40 Epoch: 100 Training error: 0.0059 Testing error: 0.0031\n",
      " ==> Saved trained model for BA\n",
      "\n",
      "Model selection summary for CAT with window size of 7:\n",
      "------------------------------------------------------------\n",
      " ==> Learn rate: 0.0010 Dropout: 0.25 Epoch: 200 Training error: 0.0030 Testing error: 0.0055\n",
      " ==> Saved trained model for CAT\n",
      "\n",
      "Model selection summary for CVX with window size of 7:\n",
      "------------------------------------------------------------\n",
      " ==> Learn rate: 0.0010 Dropout: 0.40 Epoch: 100 Training error: 0.0070 Testing error: 0.0106\n",
      " ==> Saved trained model for CVX\n",
      "\n",
      "Model selection summary for CSCO with window size of 10:\n",
      "------------------------------------------------------------\n",
      " ==> Learn rate: 0.0100 Dropout: 0.25 Epoch: 100 Training error: 0.0037 Testing error: 0.0079\n",
      " ==> Saved trained model for CSCO\n",
      "\n",
      "Model selection summary for KO with window size of 7:\n",
      "------------------------------------------------------------\n",
      " ==> Learn rate: 0.0100 Dropout: 0.25 Epoch: 100 Training error: 0.0037 Testing error: 0.0058\n",
      " ==> Saved trained model for KO\n",
      "\n",
      "Model selection summary for DWDP with window size of 5:\n",
      "------------------------------------------------------------\n",
      " ==> Learn rate: 0.0100 Dropout: 0.40 Epoch: 100 Training error: 0.0051 Testing error: 0.0058\n",
      " ==> Saved trained model for DWDP\n",
      "\n",
      "Model selection summary for XOM with window size of 7:\n",
      "------------------------------------------------------------\n",
      " ==> Learn rate: 0.0010 Dropout: 0.25 Epoch: 100 Training error: 0.0103 Testing error: 0.0130\n",
      " ==> Saved trained model for XOM\n",
      "\n",
      "Model selection summary for WBA with window size of 10:\n",
      "------------------------------------------------------------\n",
      " ==> Learn rate: 0.0010 Dropout: 0.40 Epoch: 100 Training error: 0.0058 Testing error: 0.0100\n",
      " ==> Saved trained model for WBA\n",
      "\n",
      "Model selection summary for GS with window size of 5:\n",
      "------------------------------------------------------------\n",
      " ==> Learn rate: 0.0010 Dropout: 0.25 Epoch: 200 Training error: 0.0093 Testing error: 0.0071\n",
      " ==> Saved trained model for GS\n",
      "\n",
      "Model selection summary for HD with window size of 5:\n",
      "------------------------------------------------------------\n",
      " ==> Learn rate: 0.0010 Dropout: 0.25 Epoch: 200 Training error: 0.0018 Testing error: 0.0040\n",
      " ==> Saved trained model for HD\n",
      "\n",
      "Model selection summary for IBM with window size of 7:\n",
      "------------------------------------------------------------\n",
      " ==> Learn rate: 0.0100 Dropout: 0.25 Epoch: 200 Training error: 0.0058 Testing error: 0.0097\n",
      " ==> Saved trained model for IBM\n",
      "\n",
      "Model selection summary for INTC with window size of 5:\n",
      "------------------------------------------------------------\n",
      " ==> Learn rate: 0.0100 Dropout: 0.25 Epoch: 200 Training error: 0.0033 Testing error: 0.0080\n",
      " ==> Saved trained model for INTC\n",
      "\n",
      "Model selection summary for JNJ with window size of 7:\n",
      "------------------------------------------------------------\n",
      " ==> Learn rate: 0.0010 Dropout: 0.40 Epoch: 100 Training error: 0.0052 Testing error: 0.0045\n",
      " ==> Saved trained model for JNJ\n",
      "\n",
      "Model selection summary for JPM with window size of 7:\n",
      "------------------------------------------------------------\n",
      " ==> Learn rate: 0.0100 Dropout: 0.25 Epoch: 100 Training error: 0.0026 Testing error: 0.0042\n",
      " ==> Saved trained model for JPM\n",
      "\n",
      "Model selection summary for MCD with window size of 10:\n",
      "------------------------------------------------------------\n",
      " ==> Learn rate: 0.0010 Dropout: 0.25 Epoch: 200 Training error: 0.0023 Testing error: 0.0041\n",
      " ==> Saved trained model for MCD\n",
      "\n",
      "Model selection summary for MRK with window size of 10:\n",
      "------------------------------------------------------------\n",
      " ==> Learn rate: 0.0100 Dropout: 0.40 Epoch: 100 Training error: 0.0036 Testing error: 0.0449\n",
      " ==> Saved trained model for MRK\n",
      "\n",
      "Model selection summary for MSFT with window size of 10:\n",
      "------------------------------------------------------------\n",
      " ==> Learn rate: 0.0100 Dropout: 0.40 Epoch: 200 Training error: 0.0025 Testing error: 0.0062\n",
      " ==> Saved trained model for MSFT\n",
      "\n",
      "Model selection summary for NKE with window size of 5:\n",
      "------------------------------------------------------------\n",
      " ==> Learn rate: 0.0100 Dropout: 0.40 Epoch: 100 Training error: 0.0041 Testing error: 0.0125\n",
      " ==> Saved trained model for NKE\n",
      "\n",
      "Model selection summary for PFE with window size of 5:\n",
      "------------------------------------------------------------\n",
      " ==> Learn rate: 0.0100 Dropout: 0.40 Epoch: 200 Training error: 0.0018 Testing error: 0.0497\n",
      " ==> Saved trained model for PFE\n",
      "\n",
      "Model selection summary for PG with window size of 5:\n",
      "------------------------------------------------------------\n",
      " ==> Learn rate: 0.0010 Dropout: 0.25 Epoch: 200 Training error: 0.0046 Testing error: 0.0100\n",
      " ==> Saved trained model for PG\n",
      "\n",
      "Model selection summary for TRV with window size of 5:\n",
      "------------------------------------------------------------\n",
      " ==> Learn rate: 0.0010 Dropout: 0.25 Epoch: 200 Training error: 0.0041 Testing error: 0.0047\n",
      " ==> Saved trained model for TRV\n",
      "\n",
      "Model selection summary for UNH with window size of 7:\n",
      "------------------------------------------------------------\n",
      " ==> Learn rate: 0.0100 Dropout: 0.25 Epoch: 200 Training error: 0.0028 Testing error: 0.0035\n",
      " ==> Saved trained model for UNH\n",
      "\n",
      "Model selection summary for UTX with window size of 10:\n",
      "------------------------------------------------------------\n",
      " ==> Learn rate: 0.0010 Dropout: 0.25 Epoch: 200 Training error: 0.0038 Testing error: 0.0102\n",
      " ==> Saved trained model for UTX\n",
      "\n",
      "Model selection summary for VZ with window size of 10:\n",
      "------------------------------------------------------------\n",
      " ==> Learn rate: 0.0100 Dropout: 0.25 Epoch: 100 Training error: 0.0033 Testing error: 0.0100\n",
      " ==> Saved trained model for VZ\n",
      "\n",
      "Model selection summary for V with window size of 10:\n",
      "------------------------------------------------------------\n",
      " ==> Learn rate: 0.0100 Dropout: 0.40 Epoch: 100 Training error: 0.0024 Testing error: 0.0062\n",
      " ==> Saved trained model for V\n",
      "\n",
      "Model selection summary for WMT with window size of 7:\n",
      "------------------------------------------------------------\n",
      " ==> Learn rate: 0.0010 Dropout: 0.25 Epoch: 200 Training error: 0.0028 Testing error: 0.0033\n",
      " ==> Saved trained model for WMT\n",
      "\n",
      "Model selection summary for DIS with window size of 10:\n",
      "------------------------------------------------------------\n",
      " ==> Learn rate: 0.0100 Dropout: 0.40 Epoch: 100 Training error: 0.0089 Testing error: 0.0182\n",
      " ==> Saved trained model for DIS\n",
      "\n",
      "Model selection summary for GOOG with window size of 10:\n",
      "------------------------------------------------------------\n",
      " ==> Learn rate: 0.0100 Dropout: 0.40 Epoch: 100 Training error: 0.0028 Testing error: 0.0099\n",
      " ==> Saved trained model for GOOG\n",
      "\n",
      "Model selection summary for FB with window size of 10:\n",
      "------------------------------------------------------------\n",
      " ==> Learn rate: 0.0010 Dropout: 0.25 Epoch: 200 Training error: 0.0022 Testing error: 0.0106\n",
      " ==> Saved trained model for FB\n"
     ]
    }
   ],
   "source": [
    "from keras import backend as K\n",
    "import tensorflow as tf\n",
    "\n",
    "for ticker in symbols[1:]:\n",
    "    #release memory\n",
    "    K.clear_session()\n",
    "    tf.reset_default_graph()\n",
    "    \n",
    "    result = model_selector(ticker, window_sizes, learn_rates, dropouts, epochs, batch_size,verbose=2)\n",
    "    \n",
    "    #save trained model\n",
    "    ModelLoader.save(result[1]['ticker'],result[0],result[1])\n",
    "    print(\" ==> Saved trained model for {}\".format(result[1]['ticker']))"
   ]
  },
  {
   "cell_type": "code",
   "execution_count": null,
   "metadata": {},
   "outputs": [],
   "source": []
  }
 ],
 "metadata": {
  "kernelspec": {
   "display_name": "Python 3",
   "language": "python",
   "name": "python3"
  },
  "language_info": {
   "codemirror_mode": {
    "name": "ipython",
    "version": 3
   },
   "file_extension": ".py",
   "mimetype": "text/x-python",
   "name": "python",
   "nbconvert_exporter": "python",
   "pygments_lexer": "ipython3",
   "version": "3.7.4"
  },
  "widgets": {
   "state": {},
   "version": "1.1.2"
  }
 },
 "nbformat": 4,
 "nbformat_minor": 2
}
